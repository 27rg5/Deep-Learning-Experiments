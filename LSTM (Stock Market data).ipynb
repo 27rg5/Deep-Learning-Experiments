{
 "cells": [
  {
   "cell_type": "code",
   "execution_count": 1,
   "metadata": {},
   "outputs": [],
   "source": [
    "import numpy as np\n",
    "import matplotlib.pyplot as plt\n",
    "import pandas as pd\n",
    "import tensorflow as tf"
   ]
  },
  {
   "cell_type": "code",
   "execution_count": 2,
   "metadata": {},
   "outputs": [
    {
     "data": {
      "text/html": [
       "<div>\n",
       "<style scoped>\n",
       "    .dataframe tbody tr th:only-of-type {\n",
       "        vertical-align: middle;\n",
       "    }\n",
       "\n",
       "    .dataframe tbody tr th {\n",
       "        vertical-align: top;\n",
       "    }\n",
       "\n",
       "    .dataframe thead th {\n",
       "        text-align: right;\n",
       "    }\n",
       "</style>\n",
       "<table border=\"1\" class=\"dataframe\">\n",
       "  <thead>\n",
       "    <tr style=\"text-align: right;\">\n",
       "      <th></th>\n",
       "      <th>Date</th>\n",
       "      <th>Symbol</th>\n",
       "      <th>Series</th>\n",
       "      <th>Prev Close</th>\n",
       "      <th>Open</th>\n",
       "      <th>High</th>\n",
       "      <th>Low</th>\n",
       "      <th>Last</th>\n",
       "      <th>Close</th>\n",
       "      <th>VWAP</th>\n",
       "      <th>Volume</th>\n",
       "      <th>Turnover</th>\n",
       "      <th>Trades</th>\n",
       "      <th>Deliverable Volume</th>\n",
       "      <th>%Deliverble</th>\n",
       "    </tr>\n",
       "  </thead>\n",
       "  <tbody>\n",
       "    <tr>\n",
       "      <th>0</th>\n",
       "      <td>2007-11-27</td>\n",
       "      <td>MUNDRAPORT</td>\n",
       "      <td>EQ</td>\n",
       "      <td>440.00</td>\n",
       "      <td>770.00</td>\n",
       "      <td>1050.00</td>\n",
       "      <td>770.0</td>\n",
       "      <td>959.0</td>\n",
       "      <td>962.90</td>\n",
       "      <td>984.72</td>\n",
       "      <td>27294366</td>\n",
       "      <td>2.687719e+15</td>\n",
       "      <td>NaN</td>\n",
       "      <td>9859619</td>\n",
       "      <td>0.3612</td>\n",
       "    </tr>\n",
       "    <tr>\n",
       "      <th>1</th>\n",
       "      <td>2007-11-28</td>\n",
       "      <td>MUNDRAPORT</td>\n",
       "      <td>EQ</td>\n",
       "      <td>962.90</td>\n",
       "      <td>984.00</td>\n",
       "      <td>990.00</td>\n",
       "      <td>874.0</td>\n",
       "      <td>885.0</td>\n",
       "      <td>893.90</td>\n",
       "      <td>941.38</td>\n",
       "      <td>4581338</td>\n",
       "      <td>4.312765e+14</td>\n",
       "      <td>NaN</td>\n",
       "      <td>1453278</td>\n",
       "      <td>0.3172</td>\n",
       "    </tr>\n",
       "    <tr>\n",
       "      <th>2</th>\n",
       "      <td>2007-11-29</td>\n",
       "      <td>MUNDRAPORT</td>\n",
       "      <td>EQ</td>\n",
       "      <td>893.90</td>\n",
       "      <td>909.00</td>\n",
       "      <td>914.75</td>\n",
       "      <td>841.0</td>\n",
       "      <td>887.0</td>\n",
       "      <td>884.20</td>\n",
       "      <td>888.09</td>\n",
       "      <td>5124121</td>\n",
       "      <td>4.550658e+14</td>\n",
       "      <td>NaN</td>\n",
       "      <td>1069678</td>\n",
       "      <td>0.2088</td>\n",
       "    </tr>\n",
       "    <tr>\n",
       "      <th>3</th>\n",
       "      <td>2007-11-30</td>\n",
       "      <td>MUNDRAPORT</td>\n",
       "      <td>EQ</td>\n",
       "      <td>884.20</td>\n",
       "      <td>890.00</td>\n",
       "      <td>958.00</td>\n",
       "      <td>890.0</td>\n",
       "      <td>929.0</td>\n",
       "      <td>921.55</td>\n",
       "      <td>929.17</td>\n",
       "      <td>4609762</td>\n",
       "      <td>4.283257e+14</td>\n",
       "      <td>NaN</td>\n",
       "      <td>1260913</td>\n",
       "      <td>0.2735</td>\n",
       "    </tr>\n",
       "    <tr>\n",
       "      <th>4</th>\n",
       "      <td>2007-12-03</td>\n",
       "      <td>MUNDRAPORT</td>\n",
       "      <td>EQ</td>\n",
       "      <td>921.55</td>\n",
       "      <td>939.75</td>\n",
       "      <td>995.00</td>\n",
       "      <td>922.0</td>\n",
       "      <td>980.0</td>\n",
       "      <td>969.30</td>\n",
       "      <td>965.65</td>\n",
       "      <td>2977470</td>\n",
       "      <td>2.875200e+14</td>\n",
       "      <td>NaN</td>\n",
       "      <td>816123</td>\n",
       "      <td>0.2741</td>\n",
       "    </tr>\n",
       "  </tbody>\n",
       "</table>\n",
       "</div>"
      ],
      "text/plain": [
       "         Date      Symbol Series  Prev Close    Open     High    Low   Last  \\\n",
       "0  2007-11-27  MUNDRAPORT     EQ      440.00  770.00  1050.00  770.0  959.0   \n",
       "1  2007-11-28  MUNDRAPORT     EQ      962.90  984.00   990.00  874.0  885.0   \n",
       "2  2007-11-29  MUNDRAPORT     EQ      893.90  909.00   914.75  841.0  887.0   \n",
       "3  2007-11-30  MUNDRAPORT     EQ      884.20  890.00   958.00  890.0  929.0   \n",
       "4  2007-12-03  MUNDRAPORT     EQ      921.55  939.75   995.00  922.0  980.0   \n",
       "\n",
       "    Close    VWAP    Volume      Turnover  Trades  Deliverable Volume  \\\n",
       "0  962.90  984.72  27294366  2.687719e+15     NaN             9859619   \n",
       "1  893.90  941.38   4581338  4.312765e+14     NaN             1453278   \n",
       "2  884.20  888.09   5124121  4.550658e+14     NaN             1069678   \n",
       "3  921.55  929.17   4609762  4.283257e+14     NaN             1260913   \n",
       "4  969.30  965.65   2977470  2.875200e+14     NaN              816123   \n",
       "\n",
       "   %Deliverble  \n",
       "0       0.3612  \n",
       "1       0.3172  \n",
       "2       0.2088  \n",
       "3       0.2735  \n",
       "4       0.2741  "
      ]
     },
     "execution_count": 2,
     "metadata": {},
     "output_type": "execute_result"
    }
   ],
   "source": [
    "data = pd.read_csv(r\"C:\\Users\\admin\\Downloads\\stock data\\ADANIPORTS.csv\")\n",
    "data.head()"
   ]
  },
  {
   "cell_type": "code",
   "execution_count": 3,
   "metadata": {},
   "outputs": [
    {
     "data": {
      "text/plain": [
       "0    770.00\n",
       "1    984.00\n",
       "2    909.00\n",
       "3    890.00\n",
       "4    939.75\n",
       "Name: Open, dtype: float64"
      ]
     },
     "execution_count": 3,
     "metadata": {},
     "output_type": "execute_result"
    }
   ],
   "source": [
    "dataset = data['Open']\n",
    "dataset.head()"
   ]
  },
  {
   "cell_type": "code",
   "execution_count": 4,
   "metadata": {},
   "outputs": [],
   "source": [
    "from sklearn.preprocessing import MinMaxScaler\n",
    "min_max = MinMaxScaler()\n",
    "dataset = min_max.fit_transform(np.array(dataset).reshape(-1,1))\n",
    "train_data = dataset[0:2492]    # 75 percent of whole data. Remaining is for testing\n",
    "test_data = dataset[2492: 3322]"
   ]
  },
  {
   "cell_type": "code",
   "execution_count": 5,
   "metadata": {},
   "outputs": [],
   "source": [
    "X_train = []\n",
    "y_train = []\n",
    "for i in range(60, 2492):\n",
    "    X_train.append(train_data[i-60:i, 0])\n",
    "    y_train.append(train_data[i, 0])\n",
    "X_train, y_train = np.array(X_train), np.array(y_train)\n",
    "\n",
    "X_train = np.reshape(X_train, (X_train.shape[0], X_train.shape[1], 1))"
   ]
  },
  {
   "cell_type": "code",
   "execution_count": 6,
   "metadata": {},
   "outputs": [
    {
     "name": "stdout",
     "output_type": "stream",
     "text": [
      "(2432, 60, 1)\n",
      "(2432,)\n"
     ]
    }
   ],
   "source": [
    "print(X_train.shape)\n",
    "print(y_train.shape)"
   ]
  },
  {
   "cell_type": "code",
   "execution_count": 7,
   "metadata": {},
   "outputs": [
    {
     "name": "stdout",
     "output_type": "stream",
     "text": [
      "Model: \"sequential\"\n",
      "_________________________________________________________________\n",
      "Layer (type)                 Output Shape              Param #   \n",
      "=================================================================\n",
      "lstm (LSTM)                  (None, 60, 30)            3840      \n",
      "_________________________________________________________________\n",
      "dropout (Dropout)            (None, 60, 30)            0         \n",
      "_________________________________________________________________\n",
      "lstm_1 (LSTM)                (None, 60, 30)            7320      \n",
      "_________________________________________________________________\n",
      "dropout_1 (Dropout)          (None, 60, 30)            0         \n",
      "_________________________________________________________________\n",
      "lstm_2 (LSTM)                (None, 60, 30)            7320      \n",
      "_________________________________________________________________\n",
      "dropout_2 (Dropout)          (None, 60, 30)            0         \n",
      "_________________________________________________________________\n",
      "dense (Dense)                (None, 60, 1)             31        \n",
      "=================================================================\n",
      "Total params: 18,511\n",
      "Trainable params: 18,511\n",
      "Non-trainable params: 0\n",
      "_________________________________________________________________\n"
     ]
    }
   ],
   "source": [
    "model = tf.keras.Sequential()\n",
    "model.add(tf.keras.layers.LSTM(30, return_sequences = True, input_shape = (X_train.shape[1], 1)))\n",
    "model.add(tf.keras.layers.Dropout(0.2))\n",
    "model.add(tf.keras.layers.LSTM(30, return_sequences = True))\n",
    "model.add(tf.keras.layers.Dropout(0.2))\n",
    "model.add(tf.keras.layers.LSTM(30, return_sequences = True))\n",
    "model.add(tf.keras.layers.Dropout(0.2))\n",
    "model.add(tf.keras.layers.Dense(1))\n",
    "model.summary()"
   ]
  },
  {
   "cell_type": "code",
   "execution_count": 9,
   "metadata": {},
   "outputs": [],
   "source": [
    "model.compile(optimizer = tf.keras.optimizers.Adam(),\n",
    "             loss = 'mean_squared_error')"
   ]
  },
  {
   "cell_type": "code",
   "execution_count": 10,
   "metadata": {},
   "outputs": [
    {
     "name": "stdout",
     "output_type": "stream",
     "text": [
      "Epoch 1/100\n",
      "76/76 [==============================] - 10s 39ms/step - loss: 0.0194 1s\n",
      "Epoch 2/100\n",
      "76/76 [==============================] - 3s 39ms/step - loss: 0.0075\n",
      "Epoch 3/100\n",
      "76/76 [==============================] - 3s 38ms/step - loss: 0.0076\n",
      "Epoch 4/100\n",
      "76/76 [==============================] - 3s 41ms/step - loss: 0.0072\n",
      "Epoch 5/100\n",
      "76/76 [==============================] - 3s 41ms/step - loss: 0.0070\n",
      "Epoch 6/100\n",
      "76/76 [==============================] - 3s 38ms/step - loss: 0.0066\n",
      "Epoch 7/100\n",
      "76/76 [==============================] - 3s 39ms/step - loss: 0.0060\n",
      "Epoch 8/100\n",
      "76/76 [==============================] - 3s 38ms/step - loss: 0.0055\n",
      "Epoch 9/100\n",
      "76/76 [==============================] - 3s 39ms/step - loss: 0.0059\n",
      "Epoch 10/100\n",
      "76/76 [==============================] - 3s 39ms/step - loss: 0.0054\n",
      "Epoch 11/100\n",
      "76/76 [==============================] - 3s 39ms/step - loss: 0.0055\n",
      "Epoch 12/100\n",
      "76/76 [==============================] - 3s 42ms/step - loss: 0.0055\n",
      "Epoch 13/100\n",
      "76/76 [==============================] - 3s 45ms/step - loss: 0.0053\n",
      "Epoch 14/100\n",
      "76/76 [==============================] - 3s 44ms/step - loss: 0.0056\n",
      "Epoch 15/100\n",
      "76/76 [==============================] - 3s 45ms/step - loss: 0.0050\n",
      "Epoch 16/100\n",
      "76/76 [==============================] - 3s 41ms/step - loss: 0.0051\n",
      "Epoch 17/100\n",
      "76/76 [==============================] - 4s 46ms/step - loss: 0.0046\n",
      "Epoch 18/100\n",
      "76/76 [==============================] - 3s 39ms/step - loss: 0.0046\n",
      "Epoch 19/100\n",
      "76/76 [==============================] - 3s 39ms/step - loss: 0.0052\n",
      "Epoch 20/100\n",
      "76/76 [==============================] - 3s 39ms/step - loss: 0.0051\n",
      "Epoch 21/100\n",
      "76/76 [==============================] - 3s 39ms/step - loss: 0.0047\n",
      "Epoch 22/100\n",
      "76/76 [==============================] - 3s 39ms/step - loss: 0.0046\n",
      "Epoch 23/100\n",
      "76/76 [==============================] - 3s 39ms/step - loss: 0.0047\n",
      "Epoch 24/100\n",
      "76/76 [==============================] - 3s 39ms/step - loss: 0.0046\n",
      "Epoch 25/100\n",
      "76/76 [==============================] - 3s 39ms/step - loss: 0.0047\n",
      "Epoch 26/100\n",
      "76/76 [==============================] - 3s 39ms/step - loss: 0.0045\n",
      "Epoch 27/100\n",
      "76/76 [==============================] - 3s 39ms/step - loss: 0.0050\n",
      "Epoch 28/100\n",
      "76/76 [==============================] - 3s 39ms/step - loss: 0.0045\n",
      "Epoch 29/100\n",
      "76/76 [==============================] - 3s 39ms/step - loss: 0.0048\n",
      "Epoch 30/100\n",
      "76/76 [==============================] - 3s 39ms/step - loss: 0.0047\n",
      "Epoch 31/100\n",
      "76/76 [==============================] - 3s 39ms/step - loss: 0.0046\n",
      "Epoch 32/100\n",
      "76/76 [==============================] - 3s 39ms/step - loss: 0.0045\n",
      "Epoch 33/100\n",
      "76/76 [==============================] - 3s 39ms/step - loss: 0.0051\n",
      "Epoch 34/100\n",
      "76/76 [==============================] - 3s 39ms/step - loss: 0.0043\n",
      "Epoch 35/100\n",
      "76/76 [==============================] - 3s 39ms/step - loss: 0.0042\n",
      "Epoch 36/100\n",
      "76/76 [==============================] - 3s 44ms/step - loss: 0.0044\n",
      "Epoch 37/100\n",
      "76/76 [==============================] - 3s 39ms/step - loss: 0.0043\n",
      "Epoch 38/100\n",
      "76/76 [==============================] - 3s 39ms/step - loss: 0.0039\n",
      "Epoch 39/100\n",
      "76/76 [==============================] - 3s 39ms/step - loss: 0.0043\n",
      "Epoch 40/100\n",
      "76/76 [==============================] - 3s 39ms/step - loss: 0.0042\n",
      "Epoch 41/100\n",
      "76/76 [==============================] - 3s 40ms/step - loss: 0.0043\n",
      "Epoch 42/100\n",
      "76/76 [==============================] - 3s 39ms/step - loss: 0.0039\n",
      "Epoch 43/100\n",
      "76/76 [==============================] - 3s 39ms/step - loss: 0.0041\n",
      "Epoch 44/100\n",
      "76/76 [==============================] - 3s 39ms/step - loss: 0.0040\n",
      "Epoch 45/100\n",
      "76/76 [==============================] - 3s 39ms/step - loss: 0.0048\n",
      "Epoch 46/100\n",
      "76/76 [==============================] - 3s 39ms/step - loss: 0.0040\n",
      "Epoch 47/100\n",
      "76/76 [==============================] - 3s 39ms/step - loss: 0.0047\n",
      "Epoch 48/100\n",
      "76/76 [==============================] - 3s 39ms/step - loss: 0.0044\n",
      "Epoch 49/100\n",
      "76/76 [==============================] - 3s 39ms/step - loss: 0.0039\n",
      "Epoch 50/100\n",
      "76/76 [==============================] - 3s 39ms/step - loss: 0.0041\n",
      "Epoch 51/100\n",
      "76/76 [==============================] - 3s 39ms/step - loss: 0.0040\n",
      "Epoch 52/100\n",
      "76/76 [==============================] - 3s 39ms/step - loss: 0.0038\n",
      "Epoch 53/100\n",
      "76/76 [==============================] - 3s 39ms/step - loss: 0.0039\n",
      "Epoch 54/100\n",
      "76/76 [==============================] - 3s 40ms/step - loss: 0.0043\n",
      "Epoch 55/100\n",
      "76/76 [==============================] - 3s 39ms/step - loss: 0.0043\n",
      "Epoch 56/100\n",
      "76/76 [==============================] - 3s 39ms/step - loss: 0.0046\n",
      "Epoch 57/100\n",
      "76/76 [==============================] - 3s 39ms/step - loss: 0.0039\n",
      "Epoch 58/100\n",
      "76/76 [==============================] - 3s 39ms/step - loss: 0.0042\n",
      "Epoch 59/100\n",
      "76/76 [==============================] - 3s 39ms/step - loss: 0.0044\n",
      "Epoch 60/100\n",
      "76/76 [==============================] - 3s 40ms/step - loss: 0.0042\n",
      "Epoch 61/100\n",
      "76/76 [==============================] - 3s 39ms/step - loss: 0.0042\n",
      "Epoch 62/100\n",
      "76/76 [==============================] - 3s 39ms/step - loss: 0.0040\n",
      "Epoch 63/100\n",
      "76/76 [==============================] - 3s 39ms/step - loss: 0.0040\n",
      "Epoch 64/100\n",
      "76/76 [==============================] - 3s 39ms/step - loss: 0.0041\n",
      "Epoch 65/100\n",
      "76/76 [==============================] - 3s 39ms/step - loss: 0.0037\n",
      "Epoch 66/100\n",
      "76/76 [==============================] - 3s 39ms/step - loss: 0.0038\n",
      "Epoch 67/100\n",
      "76/76 [==============================] - 3s 41ms/step - loss: 0.0046\n",
      "Epoch 68/100\n",
      "76/76 [==============================] - 3s 39ms/step - loss: 0.0037\n",
      "Epoch 69/100\n",
      "76/76 [==============================] - 3s 39ms/step - loss: 0.0041\n",
      "Epoch 70/100\n",
      "76/76 [==============================] - 3s 39ms/step - loss: 0.0037\n",
      "Epoch 71/100\n",
      "76/76 [==============================] - 3s 39ms/step - loss: 0.0043\n",
      "Epoch 72/100\n",
      "76/76 [==============================] - 3s 39ms/step - loss: 0.0038\n",
      "Epoch 73/100\n",
      "76/76 [==============================] - 3s 39ms/step - loss: 0.0049\n",
      "Epoch 74/100\n",
      "76/76 [==============================] - 3s 40ms/step - loss: 0.0041\n",
      "Epoch 75/100\n",
      "76/76 [==============================] - 3s 39ms/step - loss: 0.0040\n",
      "Epoch 76/100\n",
      "76/76 [==============================] - 3s 40ms/step - loss: 0.0038\n",
      "Epoch 77/100\n",
      "76/76 [==============================] - 3s 40ms/step - loss: 0.0037\n",
      "Epoch 78/100\n",
      "76/76 [==============================] - 3s 41ms/step - loss: 0.0037\n",
      "Epoch 79/100\n",
      "76/76 [==============================] - 3s 39ms/step - loss: 0.0037\n",
      "Epoch 80/100\n",
      "76/76 [==============================] - 3s 40ms/step - loss: 0.0037\n",
      "Epoch 81/100\n",
      "76/76 [==============================] - 3s 40ms/step - loss: 0.0045\n",
      "Epoch 82/100\n",
      "76/76 [==============================] - 3s 39ms/step - loss: 0.0037\n",
      "Epoch 83/100\n",
      "76/76 [==============================] - 3s 41ms/step - loss: 0.0042\n",
      "Epoch 84/100\n",
      "76/76 [==============================] - 3s 40ms/step - loss: 0.0040\n",
      "Epoch 85/100\n",
      "76/76 [==============================] - 3s 40ms/step - loss: 0.0038\n",
      "Epoch 86/100\n",
      "76/76 [==============================] - 3s 39ms/step - loss: 0.0038\n",
      "Epoch 87/100\n",
      "76/76 [==============================] - 3s 39ms/step - loss: 0.0038\n",
      "Epoch 88/100\n",
      "76/76 [==============================] - 3s 39ms/step - loss: 0.0040\n",
      "Epoch 89/100\n",
      "76/76 [==============================] - 3s 40ms/step - loss: 0.0035\n",
      "Epoch 90/100\n",
      "76/76 [==============================] - 3s 39ms/step - loss: 0.0038\n",
      "Epoch 91/100\n",
      "76/76 [==============================] - 3s 39ms/step - loss: 0.0039\n",
      "Epoch 92/100\n",
      "76/76 [==============================] - 3s 40ms/step - loss: 0.0037\n",
      "Epoch 93/100\n",
      "76/76 [==============================] - 3s 40ms/step - loss: 0.0037\n",
      "Epoch 94/100\n",
      "76/76 [==============================] - 3s 40ms/step - loss: 0.0034\n",
      "Epoch 95/100\n",
      "76/76 [==============================] - 3s 39ms/step - loss: 0.0036\n",
      "Epoch 96/100\n",
      "76/76 [==============================] - 3s 39ms/step - loss: 0.0042\n",
      "Epoch 97/100\n",
      "76/76 [==============================] - 3s 40ms/step - loss: 0.0036\n",
      "Epoch 98/100\n",
      "76/76 [==============================] - 3s 42ms/step - loss: 0.0033\n",
      "Epoch 99/100\n",
      "76/76 [==============================] - 3s 44ms/step - loss: 0.0034\n",
      "Epoch 100/100\n",
      "76/76 [==============================] - 3s 41ms/step - loss: 0.0035\n"
     ]
    }
   ],
   "source": [
    "history = model.fit(X_train, y_train, batch_size = 32, epochs=100,verbose=1)"
   ]
  },
  {
   "cell_type": "code",
   "execution_count": 33,
   "metadata": {},
   "outputs": [
    {
     "data": {
      "text/plain": [
       "Text(0.5, 1.0, 'Loss')"
      ]
     },
     "execution_count": 33,
     "metadata": {},
     "output_type": "execute_result"
    },
    {
     "data": {
      "image/png": "[encoded data removed]",
      "text/plain": [
       "<Figure size 432x288 with 1 Axes>"
      ]
     },
     "metadata": {
      "needs_background": "light"
     },
     "output_type": "display_data"
    }
   ],
   "source": [
    "hist_df = pd.DataFrame(history.history)\n",
    "plt.plot(hist_df)\n",
    "plt.title(\"Loss\")"
   ]
  },
  {
   "cell_type": "code",
   "execution_count": 16,
   "metadata": {},
   "outputs": [],
   "source": [
    "X_test = []\n",
    "for i in range(60, 830):\n",
    "    X_test.append(test_data[i-60:i, 0])\n",
    "X_test = np.array(X_test)\n",
    "X_test = np.reshape(X_test, (X_test.shape[0], X_test.shape[1], 1))"
   ]
  },
  {
   "cell_type": "code",
   "execution_count": 17,
   "metadata": {},
   "outputs": [
    {
     "data": {
      "text/plain": [
       "(770, 60, 1)"
      ]
     },
     "execution_count": 17,
     "metadata": {},
     "output_type": "execute_result"
    }
   ],
   "source": [
    "np.shape(X_test)"
   ]
  },
  {
   "cell_type": "code",
   "execution_count": 34,
   "metadata": {},
   "outputs": [
    {
     "data": {
      "image/png": "[encoded data removed]",
      "text/plain": [
       "<Figure size 432x288 with 1 Axes>"
      ]
     },
     "metadata": {
      "needs_background": "light"
     },
     "output_type": "display_data"
    }
   ],
   "source": [
    "Y_pred = model.predict(X_test)\n",
    "plt.plot(min_max.inverse_transform(test_data), label = 'Real stock price')\n",
    "plt.plot(min_max.inverse_transform(Y_pred[:, 0]), label = 'Predicted stock price')\n",
    "plt.legend()\n",
    "plt.title(\"Results\")\n",
    "plt.show()"
   ]
  },
  {
   "cell_type": "code",
   "execution_count": null,
   "metadata": {},
   "outputs": [],
   "source": []
  }
 ],
 "metadata": {
  "kernelspec": {
   "display_name": "Python 3",
   "language": "python",
   "name": "python3"
  },
  "language_info": {
   "codemirror_mode": {
    "name": "ipython",
    "version": 3
   },
   "file_extension": ".py",
   "mimetype": "text/x-python",
   "name": "python",
   "nbconvert_exporter": "python",
   "pygments_lexer": "ipython3",
   "version": "3.8.5"
  }
 },
 "nbformat": 4,
 "nbformat_minor": 4
}
